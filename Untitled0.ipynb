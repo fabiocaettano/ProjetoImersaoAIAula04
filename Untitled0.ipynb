{
  "nbformat": 4,
  "nbformat_minor": 0,
  "metadata": {
    "colab": {
      "provenance": [],
      "toc_visible": true,
      "authorship_tag": "ABX9TyMdXOFQqW85NzK/GoKxaq0j",
      "include_colab_link": true
    },
    "kernelspec": {
      "name": "python3",
      "display_name": "Python 3"
    },
    "language_info": {
      "name": "python"
    }
  },
  "cells": [
    {
      "cell_type": "markdown",
      "metadata": {
        "id": "view-in-github",
        "colab_type": "text"
      },
      "source": [
        "<a href=\"https://colab.research.google.com/github/fabiocaettano/ProjetoImersaoAIAula04/blob/develop/Untitled0.ipynb\" target=\"_parent\"><img src=\"https://colab.research.google.com/assets/colab-badge.svg\" alt=\"Open In Colab\"/></a>"
      ]
    },
    {
      "cell_type": "markdown",
      "source": [],
      "metadata": {
        "id": "kFpgqppqns2q"
      }
    },
    {
      "cell_type": "code",
      "source": [
        "pip install -q -U google-generativeai"
      ],
      "metadata": {
        "id": "Ki4-KjBLOGMA"
      },
      "execution_count": 113,
      "outputs": []
    },
    {
      "cell_type": "code",
      "source": [
        "import google.generativeai as genai\n",
        "\n",
        "GOOGLE_API_KEY=''\n",
        "\n",
        "genai.configure(api_key=GOOGLE_API_KEY)"
      ],
      "metadata": {
        "id": "SFKdoMnzOcUr"
      },
      "execution_count": 126,
      "outputs": []
    },
    {
      "cell_type": "code",
      "source": [
        "model = genai.GenerativeModel('gemini-pro')"
      ],
      "metadata": {
        "id": "DgUoifPgPjGs"
      },
      "execution_count": 118,
      "outputs": []
    },
    {
      "cell_type": "code",
      "source": [
        "import requests\n",
        "import xml.etree.ElementTree as ET\n",
        "\n",
        "\n",
        "def obter_dados_climaticos(city):\n",
        "    url = f\"http://servicos.cptec.inpe.br/XML/listaCidades?city={city}\"\n",
        "    response = requests.get(url)\n",
        "\n",
        "    if response.status_code == 200:\n",
        "        root = ET.fromstring(response.content)\n",
        "        dados_climaticos = {}\n",
        "\n",
        "        for cidade in root.findall('cidade'):\n",
        "            nome = cidade.find('nome').text\n",
        "            estado = cidade.find('uf').text\n",
        "            cidade_id = cidade.find('id').text\n",
        "            dados_climaticos[nome] = {'estado': estado, 'id': cidade_id}\n",
        "\n",
        "        return dados_climaticos\n",
        "    else:\n",
        "        print(\"Erro ao obter os dados climáticos.\")\n",
        "        return None\n",
        "\n",
        "def obter_previsao_cidade(id_cidade):\n",
        "    url = f\"http://servicos.cptec.inpe.br/XML/cidade/7dias/{id_cidade}/previsao.xml\"\n",
        "    response = requests.get(url)\n",
        "\n",
        "    if response.status_code == 200:\n",
        "        #root = ET.fromstring(response.content)\n",
        "        root2 = etree.fromstring(response.content)\n",
        "\n",
        "        previsoes = []\n",
        "\n",
        "        weather_dict = {\n",
        "        \"ec\": \"Encoberto com Chuvas Isoladas\",\n",
        "        \"ci\": \"Chuvas Isoladas\",\n",
        "        \"c\": \"Chuva\",\n",
        "        \"in\": \"Instável\",\n",
        "        \"pp\": \"Poss. de Pancadas de Chuva\",\n",
        "        \"cm\": \"Chuva pela Manhã\",\n",
        "        \"cn\": \"Chuva a Noite\",\n",
        "        \"pt\": \"Pancadas de Chuva a Tarde\",\n",
        "        \"pm\": \"Pancadas de Chuva pela Manhã\",\n",
        "        \"np\": \"Nublado e Pancadas de Chuva\",\n",
        "        \"pc\": \"Pancadas de Chuva\",\n",
        "        \"pn\": \"Parcialmente Nublado\",\n",
        "        \"cv\": \"Chuvisco\",\n",
        "        \"ch\": \"Chuvoso\",\n",
        "        \"t\": \"Tempestade\",\n",
        "        \"ps\": \"Predomínio de Sol\",\n",
        "        \"e\": \"Encoberto\",\n",
        "        \"n\": \"Nublado\",\n",
        "        \"cl\": \"Céu Claro\",\n",
        "        \"nv\": \"Nevoeiro\",\n",
        "        \"g\": \"Geada\",\n",
        "        \"ne\": \"Neve\",\n",
        "        \"nd\": \"Não Definido\",\n",
        "        \"pnt\": \"Pancadas de Chuva a Noite\",\n",
        "        \"psc\": \"Possibilidade de Chuva\",\n",
        "        \"pcm\": \"Possibilidade de Chuva pela Manhã\",\n",
        "        \"pct\": \"Possibilidade de Chuva a Tarde\",\n",
        "        \"pcn\": \"Possibilidade de Chuva a Noite\",\n",
        "        \"npt\": \"Nublado com Pancadas a Tarde\",\n",
        "        \"npn\": \"Nublado com Pancadas a Noite\",\n",
        "        \"ncn\": \"Nublado com Poss. de Chuva a Noite\",\n",
        "        \"nct\": \"Nublado com Poss. de Chuva a Tarde\",\n",
        "        \"ncm\": \"Nubl. c/ Poss. de Chuva pela Manhã\",\n",
        "        \"npm\": \"Nublado com Pancadas pela Manhã\",\n",
        "        \"npp\": \"Nublado com Possibilidade de Chuva\",\n",
        "        \"vn\": \"Variação de Nebulosidade\",\n",
        "        \"ct\": \"Chuva a Tarde\",\n",
        "        \"ppn\": \"Poss. de Panc. de Chuva a Noite\",\n",
        "        \"ppt\": \"Poss. de Panc. de Chuva a Tarde\",\n",
        "        \"ppm\": \"Poss. de Panc. de Chuva pela Manhã\"\n",
        "        }\n",
        "\n",
        "        #for parent in root:\n",
        "        #    for child in parent:\n",
        "        #      print(f\"Child tag: {child.tag}\")\n",
        "        #      print(child.text)\n",
        "\n",
        "        for parent in root2:\n",
        "            data = \"\"\n",
        "            tempo = \"\"\n",
        "            minima = \"\"\n",
        "            maxima = \"\"\n",
        "            iuv = \"\"\n",
        "            for child in parent:\n",
        "              if child.tag == \"dia\":\n",
        "                data = child.text\n",
        "              elif child.tag == \"tempo\":\n",
        "                tempo = weather_dict[child.text]\n",
        "              elif child.tag == \"minima\":\n",
        "                 minima = child.text\n",
        "              elif child.tag == \"maxima\":\n",
        "                 maxima = child.text\n",
        "              elif child.tag == \"iuv\":\n",
        "                  iuv = child.text\n",
        "            if data != \"\":\n",
        "              previsoes.append({'data': data, 'tempo': tempo, 'minima': minima, 'maxima': maxima, 'iuv': iuv})\n",
        "\n",
        "\n",
        "        #for previsao in root.findall('previsao'):\n",
        "        #    data = previsao.find('dia')\n",
        "        #    tempo = previsao.find('tempo')\n",
        "        #    minima = previsao.find('temperatura/minima')\n",
        "        #    maxima = previsao.find('temperatura/maxima')\n",
        "        #    previsoes.append({'data': data, 'tempo': tempo, 'minima': minima, 'maxima': maxima})\n",
        "\n",
        "        return previsoes\n",
        "    else:\n",
        "        print(\"Erro ao obter a previsão do tempo.\")\n",
        "        return None\n",
        "\n",
        "def main():\n",
        "    city = input(\"Digite o nome da cidade sem acentos: \")\n",
        "    dados = obter_dados_climaticos(city)\n",
        "\n",
        "    if dados:\n",
        "        print(\"Dados climáticos:\")\n",
        "        for cidade, info in dados.items():\n",
        "            print(f\"Cidade: {cidade}\")\n",
        "            print(f\"Estado: {info['estado']}\")\n",
        "            print(f\"ID: {info['id']}\")\n",
        "            print(\"------------------------------------------------\")\n",
        "\n",
        "        city_id_input = input(\"Digite o ID da cidade para mais informações: \")\n",
        "\n",
        "        if city_id_input in [info['id'] for info in dados.values()]:\n",
        "            previsoes = obter_previsao_cidade(city_id_input)\n",
        "            if previsoes:\n",
        "                print(\"Previsão do tempo para os próximos 7 dias:\")\n",
        "                for previsao in previsoes:\n",
        "                    print(\"Data:\", previsao['data'])\n",
        "                    print(f\"Tempo: {previsao['tempo']}\")\n",
        "                    print(f\"Temperatura mínima: {previsao['minima']}\")\n",
        "                    print(f\"Temperatura máxima: {previsao['maxima']}\")\n",
        "                    print(\"--------------------------------------------\")\n",
        "            else:\n",
        "                print(\"Não foi possível obter a previsão do tempo.\")\n",
        "        else:\n",
        "            print(\"ID da cidade não encontrado.\")\n",
        "\n",
        "if __name__ == \"__main__\":\n",
        "    main()\n"
      ],
      "metadata": {
        "colab": {
          "base_uri": "https://localhost:8080/"
        },
        "id": "WUQuhEVsgpM3",
        "outputId": "afd7734e-e926-4873-b991-cbc83250cda8"
      },
      "execution_count": 129,
      "outputs": [
        {
          "output_type": "stream",
          "name": "stdout",
          "text": [
            "Digite o nome da cidade sem acentos: rio de janeiro\n",
            "Dados climáticos:\n",
            "Cidade: Rio de Janeiro\n",
            "Estado: RJ\n",
            "ID: 241\n",
            "------------------------------------------------\n",
            "Digite o ID da cidade para mais informações: 241\n",
            "Previsão do tempo para os próximos 7 dias:\n",
            "Data: 2024-05-12\n",
            "Tempo: Parcialmente Nublado\n",
            "Temperatura mínima: 23\n",
            "Temperatura máxima: 33\n",
            "--------------------------------------------\n",
            "Data: 2024-05-13\n",
            "Tempo: Parcialmente Nublado\n",
            "Temperatura mínima: 24\n",
            "Temperatura máxima: 34\n",
            "--------------------------------------------\n",
            "Data: 2024-05-14\n",
            "Tempo: Parcialmente Nublado\n",
            "Temperatura mínima: 22\n",
            "Temperatura máxima: 29\n",
            "--------------------------------------------\n",
            "Data: 2024-05-15\n",
            "Tempo: Parcialmente Nublado\n",
            "Temperatura mínima: 21\n",
            "Temperatura máxima: 27\n",
            "--------------------------------------------\n",
            "Data: 2024-05-16\n",
            "Tempo: Parcialmente Nublado\n",
            "Temperatura mínima: 21\n",
            "Temperatura máxima: 28\n",
            "--------------------------------------------\n",
            "Data: 2024-05-17\n",
            "Tempo: Parcialmente Nublado\n",
            "Temperatura mínima: 22\n",
            "Temperatura máxima: 32\n",
            "--------------------------------------------\n"
          ]
        }
      ]
    }
  ]
}
